{
 "metadata": {
  "language_info": {
   "codemirror_mode": {
    "name": "ipython",
    "version": 3
   },
   "file_extension": ".py",
   "mimetype": "text/x-python",
   "name": "python",
   "nbconvert_exporter": "python",
   "pygments_lexer": "ipython3",
   "version": "3.8.5"
  },
  "orig_nbformat": 2,
  "kernelspec": {
   "name": "python385jvsc74a57bd024ef22c2260513b44708f0362eb130aa8c47fff04f05430cd9a56636a609c4f2",
   "display_name": "Python 3.8.5 64-bit ('tweets-sentiment-analysis': pipenv)",
   "language": "python"
  },
  "metadata": {
   "interpreter": {
    "hash": "31f2aee4e71d21fbe5cf8b01ff0e069b9275f58929596ceb00d14d90e3e16cd6"
   }
  }
 },
 "nbformat": 4,
 "nbformat_minor": 2,
 "cells": [
  {
   "cell_type": "code",
   "execution_count": 9,
   "metadata": {},
   "outputs": [],
   "source": [
    "import os\n",
    "from dotenv import load_dotenv\n",
    "\n",
    "load_dotenv()\n",
    "\n",
    "consumer_key = os.environ['CONSUMER_KEY']\n",
    "consumer_secret = os.environ['CONSUMER_SECRET']\n",
    "access_token = os.environ['ACCESS_TOKEN']\n",
    "access_token_secret = os.environ['ACCESS_TOKEN_SECRET']"
   ]
  },
  {
   "cell_type": "code",
   "execution_count": 22,
   "metadata": {
    "tags": []
   },
   "outputs": [],
   "source": [
    "import tweepy\n",
    "auth = tweepy.OAuthHandler(consumer_key, consumer_secret)\n",
    "auth.set_access_token(access_token, access_token_secret)\n",
    "\n",
    "api = tweepy.API(auth)\n",
    "\n",
    "# https://docs.tweepy.org/en/latest/api.html#tweepy.API.user_timeline\n",
    "public_tweets = api.user_timeline(\n",
    "    screen_name=\"LactaBis\",\n",
    "    count=2,\n",
    "    include_rts=False\n",
    ")\n",
    "\n",
    "tweets_file = open(\"../tweets-text.txt\",\"a\")\n",
    "tweets_object_file = open(\"../tweets-object.txt\",\"a\")\n",
    "\n",
    "for tweet in public_tweets:\n",
    "    tweets_file.write(tweet.text + \"\\n\")\n",
    "    tweets_object_file.write(str(tweet) + \"\\n\")\n",
    "\n",
    "tweets_file.close()"
   ]
  },
  {
   "cell_type": "code",
   "execution_count": null,
   "metadata": {},
   "outputs": [],
   "source": []
  }
 ]
}