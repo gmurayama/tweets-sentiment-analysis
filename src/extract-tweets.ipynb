{
 "metadata": {
  "language_info": {
   "codemirror_mode": {
    "name": "ipython",
    "version": 3
   },
   "file_extension": ".py",
   "mimetype": "text/x-python",
   "name": "python",
   "nbconvert_exporter": "python",
   "pygments_lexer": "ipython3",
   "version": "3.8.5"
  },
  "orig_nbformat": 2,
  "kernelspec": {
   "name": "python385jvsc74a57bd024ef22c2260513b44708f0362eb130aa8c47fff04f05430cd9a56636a609c4f2",
   "display_name": "Python 3.8.5 64-bit ('tweets-sentiment-analysis-zax2xxBp': venv)",
   "language": "python"
  },
  "metadata": {
   "interpreter": {
    "hash": "31f2aee4e71d21fbe5cf8b01ff0e069b9275f58929596ceb00d14d90e3e16cd6"
   }
  }
 },
 "nbformat": 4,
 "nbformat_minor": 2,
 "cells": [
  {
   "cell_type": "code",
   "execution_count": 2,
   "metadata": {},
   "outputs": [],
   "source": [
    "import os\n",
    "from dotenv import load_dotenv\n",
    "\n",
    "load_dotenv()\n",
    "\n",
    "consumer_key = os.environ['CONSUMER_KEY']\n",
    "consumer_secret = os.environ['CONSUMER_SECRET']\n",
    "access_token = os.environ['ACCESS_TOKEN']\n",
    "access_token_secret = os.environ['ACCESS_TOKEN_SECRET']"
   ]
  },
  {
   "cell_type": "code",
   "execution_count": 4,
   "metadata": {
    "tags": []
   },
   "outputs": [],
   "source": [
    "import tweepy\n",
    "auth = tweepy.OAuthHandler(consumer_key, consumer_secret)\n",
    "auth.set_access_token(access_token, access_token_secret)\n",
    "\n",
    "api = tweepy.API(auth, wait_on_rate_limit=True)"
   ]
  },
  {
   "cell_type": "code",
   "execution_count": 9,
   "metadata": {},
   "outputs": [],
   "source": [
    "# Tweets about Earth Day\n",
    "file_earth_day = open(\"../tweets-earth-day.txt\",\"w\")\n",
    "\n",
    "for tweet in tweepy.Cursor(api.search, q=\"#EarthDay\").items(1000):\n",
    "    file_earth_day.write(tweet.text.replace(\"\\n\", \" \") + \"\\n\")\n",
    "\n",
    "file_earth_day.close()"
   ]
  },
  {
   "cell_type": "code",
   "execution_count": 10,
   "metadata": {},
   "outputs": [],
   "source": [
    "# Tweets about Biden\n",
    "file_biden = open(\"../tweets-biden.txt\",\"w\")\n",
    "\n",
    "for tweet in tweepy.Cursor(api.search, q=\"Biden\").items(1000):\n",
    "    file_biden.write(tweet.text.replace(\"\\n\", \" \") + \"\\n\")\n",
    "\n",
    "file_biden.close()"
   ]
  },
  {
   "cell_type": "code",
   "execution_count": null,
   "metadata": {},
   "outputs": [],
   "source": [
    "# Tweets about Bitcoin\n",
    "file_bitcoin = open(\"../tweets-bitcoin.txt\",\"w\")\n",
    "\n",
    "for tweet in tweepy.Cursor(api.search, q=\"bitcoin\").items(1000):\n",
    "    file_bitcoin.write(tweet.text.replace(\"\\n\", \" \") + \"\\n\")\n",
    "\n",
    "file_bitcoin.close()"
   ]
  }
 ]
}